{
 "cells": [
  {
   "cell_type": "code",
   "execution_count": 9,
   "metadata": {},
   "outputs": [],
   "source": [
    "from gym_stats.visitor_stats import VisitorStatistics"
   ]
  },
  {
   "cell_type": "code",
   "execution_count": 11,
   "metadata": {},
   "outputs": [],
   "source": [
    "db_name = 'gym_stats.db'\n",
    "table_name = 'gym_stats_table'\n",
    "\n",
    "stats = VisitorStatistics(db_name, table_name)\n",
    "\n",
    "\n",
    "whole_stats = stats.get_statistics()\n",
    "\n",
    "x = [int(item[0]) for item in whole_stats]\n",
    "timestamps = [item[1] for item in whole_stats]\n"
   ]
  },
  {
   "cell_type": "code",
   "execution_count": null,
   "metadata": {},
   "outputs": [],
   "source": [
    "import matplotlib.pyplot as plt\n",
    "\n",
    "# linspace timestamps, so that measurements taken with a long pause between them are not plotted as a straight line\n",
    "# so if there is an 1 hour pause between two measurements, there should be 60 points between them\n",
    "# this is also important where the gym is closed between 11pm and 7am, the last measurement should not be directly followed by the next one\n",
    "\n",
    "\n",
    "\n",
    "\n",
    "plt.plot(timestamps, x)\n",
    "plt.xticks(rotation=45, ha='right')\t\n",
    "plt.xlabel('Time')\n",
    "plt.ylabel('# of people')\n",
    "plt.title('Number of people in the gym given the time of day')\n",
    "plt.grid()\n",
    "plt.show()"
   ]
  },
  {
   "cell_type": "code",
   "execution_count": 5,
   "metadata": {},
   "outputs": [],
   "source": [
    "# Close the DataStore connection when done\n",
    "stats.close()"
   ]
  }
 ],
 "metadata": {
  "kernelspec": {
   "display_name": ".venv",
   "language": "python",
   "name": "python3"
  },
  "language_info": {
   "codemirror_mode": {
    "name": "ipython",
    "version": 3
   },
   "file_extension": ".py",
   "mimetype": "text/x-python",
   "name": "python",
   "nbconvert_exporter": "python",
   "pygments_lexer": "ipython3",
   "version": "3.11.6"
  }
 },
 "nbformat": 4,
 "nbformat_minor": 2
}
